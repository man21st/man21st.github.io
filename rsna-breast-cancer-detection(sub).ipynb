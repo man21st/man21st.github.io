{
 "cells": [
  {
   "cell_type": "code",
   "execution_count": 1,
   "id": "8d9bbfe2",
   "metadata": {
    "execution": {
     "iopub.execute_input": "2023-03-05T13:11:27.561980Z",
     "iopub.status.busy": "2023-03-05T13:11:27.561566Z",
     "iopub.status.idle": "2023-03-05T13:13:04.157411Z",
     "shell.execute_reply": "2023-03-05T13:13:04.155791Z"
    },
    "papermill": {
     "duration": 96.605097,
     "end_time": "2023-03-05T13:13:04.160742",
     "exception": false,
     "start_time": "2023-03-05T13:11:27.555645",
     "status": "completed"
    },
    "tags": []
   },
   "outputs": [
    {
     "name": "stdout",
     "output_type": "stream",
     "text": [
      "\u001b[33mWARNING: Running pip as the 'root' user can result in broken permissions and conflicting behaviour with the system package manager. It is recommended to use a virtual environment instead: https://pip.pypa.io/warnings/venv\u001b[0m\u001b[33m\r\n",
      "\u001b[0m\u001b[33mWARNING: There was an error checking the latest version of pip.\u001b[0m\u001b[33m\r\n",
      "\u001b[0m\u001b[33mWARNING: Running pip as the 'root' user can result in broken permissions and conflicting behaviour with the system package manager. It is recommended to use a virtual environment instead: https://pip.pypa.io/warnings/venv\u001b[0m\u001b[33m\r\n",
      "\u001b[0m\u001b[33mWARNING: There was an error checking the latest version of pip.\u001b[0m\u001b[33m\r\n",
      "\u001b[0m\u001b[33mWARNING: Running pip as the 'root' user can result in broken permissions and conflicting behaviour with the system package manager. It is recommended to use a virtual environment instead: https://pip.pypa.io/warnings/venv\u001b[0m\u001b[33m\r\n",
      "\u001b[0m\u001b[33mWARNING: There was an error checking the latest version of pip.\u001b[0m\u001b[33m\r\n",
      "\u001b[0m"
     ]
    }
   ],
   "source": [
    "\n",
    "\n",
    "!pip install -q /kaggle/input/rsna-bcd-whl-ds/python_gdcm-3.0.20-cp37-cp37m-manylinux_2_17_x86_64.manylinux2014_x86_64.whl\n",
    "!pip install -q /kaggle/input/rsna-bcd-whl-ds/pylibjpeg-1.4.0-py3-none-any.whl\n",
    "!pip install -q /kaggle/input/rsna-bcd-whl-ds/dicomsdl-0.109.1-cp37-cp37m-manylinux_2_12_x86_64.manylinux2010_x86_64.whl\n",
    "\n",
    "\n"
   ]
  },
  {
   "cell_type": "code",
   "execution_count": 2,
   "id": "a6f249f7",
   "metadata": {
    "execution": {
     "iopub.execute_input": "2023-03-05T13:13:04.170233Z",
     "iopub.status.busy": "2023-03-05T13:13:04.169843Z",
     "iopub.status.idle": "2023-03-05T13:13:13.752888Z",
     "shell.execute_reply": "2023-03-05T13:13:13.751794Z"
    },
    "papermill": {
     "duration": 9.591117,
     "end_time": "2023-03-05T13:13:13.755542",
     "exception": false,
     "start_time": "2023-03-05T13:13:04.164425",
     "status": "completed"
    },
    "tags": []
   },
   "outputs": [],
   "source": [
    "import numpy as np\n",
    "import pandas as pd\n",
    "import os\n",
    "import tensorflow as tf\n",
    "import matplotlib.pyplot as plt\n",
    "import tqdm\n",
    "import dicomsdl as dicom\n"
   ]
  },
  {
   "cell_type": "code",
   "execution_count": 3,
   "id": "1038eb72",
   "metadata": {
    "execution": {
     "iopub.execute_input": "2023-03-05T13:13:13.766617Z",
     "iopub.status.busy": "2023-03-05T13:13:13.764941Z",
     "iopub.status.idle": "2023-03-05T13:13:13.953127Z",
     "shell.execute_reply": "2023-03-05T13:13:13.952188Z"
    },
    "papermill": {
     "duration": 0.195908,
     "end_time": "2023-03-05T13:13:13.955419",
     "exception": false,
     "start_time": "2023-03-05T13:13:13.759511",
     "status": "completed"
    },
    "tags": []
   },
   "outputs": [
    {
     "name": "stderr",
     "output_type": "stream",
     "text": [
      "1it [00:00, 147.59it/s]\n"
     ]
    }
   ],
   "source": [
    "train = pd.read_csv('/kaggle/input/rsna-breast-cancer-detection/train.csv')\n",
    "test = pd.read_csv('/kaggle/input/rsna-breast-cancer-detection/test.csv')\n",
    "train.head()\n",
    "train = train[[col for col in train.columns if col in ['site_id',\n",
    " 'patient_id',\n",
    " 'image_id',\n",
    " 'laterality',\n",
    " 'view',\n",
    " 'age',\n",
    " 'implant',\n",
    " 'machine_id',\n",
    " 'prediction_id','cancer']]]\n",
    "train.loc[train['age'].isnull(),'age'] = train['age'].mean()\n",
    "\n",
    "#loading directory of images\n",
    "path = os.path.join('/kaggle/input/rsna-breast-cancer-detection/test_images')\n",
    "list_dir = os.listdir(path)\n",
    "k =[]\n",
    "y={}\n",
    "path_list=[]\n",
    "mlo_path_l = []\n",
    "cc_path_l = []\n",
    "mlo_path_r = []\n",
    "cc_path_r = []\n",
    "for i, sub in tqdm.tqdm(enumerate(list_dir)):\n",
    "    for j, fname in enumerate(os.listdir(os.path.join(path,sub))):\n",
    "        view = (test.loc[test['image_id']==int(((fname).split('.'))[0]),'view'].values)[0]\n",
    "        laterality = (test.loc[test['image_id']==int(((fname).split('.'))[0]),'laterality'].values)[0]\n",
    "        k.append(os.path.join(os.path.join(path,sub),fname))\n",
    "        if view =='MLO':\n",
    "            if laterality=='L':\n",
    "                mlo_path_l.append(os.path.join(os.path.join(path,sub),fname))\n",
    "                path_list.append(os.path.join(os.path.join(path,sub),fname))\n",
    "                y[sub+'_{}_'.format(laterality)+view] = (os.path.join(os.path.join(path,sub),fname))\n",
    "            else:\n",
    "                mlo_path_r.append(os.path.join(os.path.join(path,sub),fname))\n",
    "                path_list.append(os.path.join(os.path.join(path,sub),fname))\n",
    "                y[sub+'_{}_'.format(laterality)+view] = (os.path.join(os.path.join(path,sub),fname))\n",
    "        elif view =='CC':\n",
    "            if laterality=='L':\n",
    "                cc_path_l.append(os.path.join(os.path.join(path,sub),fname))\n",
    "                path_list.append(os.path.join(os.path.join(path,sub),fname))\n",
    "                y[sub+'_{}_'.format(laterality)+view] = (os.path.join(os.path.join(path,sub),fname))\n",
    "            else:\n",
    "                cc_path_r.append(os.path.join(os.path.join(path,sub),fname))\n",
    "                path_list.append(os.path.join(os.path.join(path,sub),fname))\n",
    "                y[sub+'_{}_'.format(laterality)+view] = (os.path.join(os.path.join(path,sub),fname))\n",
    "mlo_path_dict_l={}\n",
    "for i in range(len(list(mlo_path_l))):\n",
    "    mlo_path_dict_l[i] = mlo_path_l[i]\n",
    "mlo_path_dict_r={}\n",
    "for i in range(len(list(mlo_path_r))):\n",
    "    mlo_path_dict_r[i] = mlo_path_r[i]\n",
    "cc_path_dict_l={}\n",
    "for i in range(len(list(cc_path_l))):\n",
    "    cc_path_dict_l[i] = cc_path_l[i]\n",
    "cc_path_dict_r={}\n",
    "for i in range(len(list(cc_path_r))):\n",
    "    cc_path_dict_r[i] = cc_path_r[i]   \n",
    "path_dict={}\n",
    "for i in range(len(list(path_list))):\n",
    "    path_dict[i] = path_list[i] \n",
    "dict_path = {}\n",
    "for i,j in y.items():\n",
    "    dict_path[j] = i.split('_')[1]\n",
    "d_path = {}\n",
    "check={}\n",
    "for i,j in enumerate((y.keys())):\n",
    "    check[j] = i \n",
    "for i,j in enumerate(y.keys()):\n",
    "    d_path[j.split('_')[0]+'_'+j.split('_')[1]] = 0"
   ]
  },
  {
   "cell_type": "code",
   "execution_count": 4,
   "id": "a5fad9eb",
   "metadata": {
    "execution": {
     "iopub.execute_input": "2023-03-05T13:13:13.965665Z",
     "iopub.status.busy": "2023-03-05T13:13:13.965022Z",
     "iopub.status.idle": "2023-03-05T13:13:14.119686Z",
     "shell.execute_reply": "2023-03-05T13:13:14.118096Z"
    },
    "papermill": {
     "duration": 0.163167,
     "end_time": "2023-03-05T13:13:14.122797",
     "exception": false,
     "start_time": "2023-03-05T13:13:13.959630",
     "status": "completed"
    },
    "tags": []
   },
   "outputs": [
    {
     "name": "stderr",
     "output_type": "stream",
     "text": [
      "/opt/conda/lib/python3.7/site-packages/tensorflow/python/data/ops/structured_function.py:257: UserWarning: Even though the `tf.config.experimental_run_functions_eagerly` option is set, this option does not apply to tf.data functions. To force eager execution of tf.data functions, please use `tf.data.experimental.enable_debug_mode()`.\n",
      "  \"Even though the `tf.config.experimental_run_functions_eagerly` \"\n"
     ]
    }
   ],
   "source": [
    "tf.config.run_functions_eagerly(True)\n",
    "@tf.function\n",
    "def gen(x):\n",
    "    i = path_dict[x]\n",
    "    image = (dicom.open(i).pixelData(storedvalue=True))\n",
    "    max_val = tf.cast(image[-1,1000],dtype=tf.float32)\n",
    "    #print(max_val)\n",
    "    la = dict_path[i]\n",
    "    \n",
    "    #if  train[train['image_id']==int(i.split('/')[-1].split('.')[0])]['laterality'].values[0]=='L':\n",
    "    if la == 'L':\n",
    "        if max_val>=1000:\n",
    "            return (max_val-tf.image.resize(tf.expand_dims(image[100:-100,:2500],axis=-1),[150,100],preserve_aspect_ratio=False))/255.0\n",
    "        else:\n",
    "            return (tf.image.resize(tf.expand_dims(image[100:-100,:2500],axis=-1),[150,100],preserve_aspect_ratio=False)/255.0)\n",
    "    elif la == 'R':\n",
    "        if max_val>=1000:\n",
    "            return (max_val-tf.image.resize(tf.image.flip_left_right\n",
    "(tf.expand_dims(image[100:-100,:2500],axis=-1)),[150,100],preserve_aspect_ratio=False))/255.0\n",
    "        else:\n",
    "            return (tf.image.resize(tf.image.flip_left_right\n",
    "(tf.expand_dims(image[100:-100,:2500],axis=-1)),[150,100],preserve_aspect_ratio=False)/255.0)\n",
    "      #  if max_val>=1000:\n",
    "      #      return ((max_val-tf.image.resize_with_pad(tf.image.flip_left_right(tf.expand_dims(image,axis=-1)),500,500))/255.0)[:,140:-60,0],(y[int(i.split('/')[-1].split('.')[0])])\n",
    "      #  else:\n",
    "       #     return (tf.image.resize_with_pad(tf.image.flip_left_right(tf.expand_dims(image,axis=-1)),500,500)/255.0)[:,140:-60,0],(y[int(i.split('/')[-1].split('.')[0])])\n",
    "\n",
    "\n",
    "\n",
    "# Create a TensorFlow dataset and map your function to it\n",
    "dataset= tf.data.Dataset.from_tensor_slices(np.arange((len(list(path_list)))))\n",
    "dataset = dataset.map(lambda x: tf.numpy_function(gen, inp=[x], Tout=(tf.float32))).batch(1)                "
   ]
  },
  {
   "cell_type": "code",
   "execution_count": 5,
   "id": "487c9ef8",
   "metadata": {
    "execution": {
     "iopub.execute_input": "2023-03-05T13:13:14.132741Z",
     "iopub.status.busy": "2023-03-05T13:13:14.132272Z",
     "iopub.status.idle": "2023-03-05T13:13:14.139906Z",
     "shell.execute_reply": "2023-03-05T13:13:14.138661Z"
    },
    "papermill": {
     "duration": 0.015522,
     "end_time": "2023-03-05T13:13:14.142369",
     "exception": false,
     "start_time": "2023-03-05T13:13:14.126847",
     "status": "completed"
    },
    "tags": []
   },
   "outputs": [],
   "source": [
    "def pfbeta_fast(labels, predictions, beta=1):\n",
    "\n",
    "    pTP = tf.math.reduce_sum(labels * predictions)\n",
    "    pFP = tf.math.reduce_sum((1-labels) * predictions)\n",
    "    num_positives = tf.math.reduce_sum((labels))  #  = pTP+pFN\n",
    "\n",
    "    pPrecision = pTP/(pTP+pFP)\n",
    "    pRecall = pTP/num_positives\n",
    "\n",
    "    beta_squared = beta**2\n",
    "\n",
    "    if (pPrecision > 0 and pRecall > 0):\n",
    "        pF1 = (1+beta_squared) * pPrecision * pRecall/(beta_squared*pPrecision + pRecall)\n",
    "        return pF1\n",
    "    else:\n",
    "        return 0.0\n"
   ]
  },
  {
   "cell_type": "code",
   "execution_count": 6,
   "id": "25445642",
   "metadata": {
    "execution": {
     "iopub.execute_input": "2023-03-05T13:13:14.152163Z",
     "iopub.status.busy": "2023-03-05T13:13:14.151775Z",
     "iopub.status.idle": "2023-03-05T13:13:14.167239Z",
     "shell.execute_reply": "2023-03-05T13:13:14.166053Z"
    },
    "papermill": {
     "duration": 0.023501,
     "end_time": "2023-03-05T13:13:14.169861",
     "exception": false,
     "start_time": "2023-03-05T13:13:14.146360",
     "status": "completed"
    },
    "tags": []
   },
   "outputs": [],
   "source": [
    "\n",
    "\n",
    "def mylayer(X,f,size,s,how='same',a=1):\n",
    "    layer = tf.keras.layers.Conv2D(filters=f,kernel_size=size,strides=s,padding=how)(X)\n",
    "    layer = tf.keras.layers.BatchNormalization()(layer)\n",
    "    if a ==1:\n",
    "        layer = tf.keras.layers.Activation('relu')(layer)\n",
    "    else:\n",
    "        layer +=0\n",
    "    return layer\n",
    "def add_layer(X_prev,X):\n",
    "    added = tf.keras.layers.Add()([X_prev,X])\n",
    "    return added\n",
    "def conv_connect(X_prev,X,f,s,how='same'):\n",
    "    layer = tf.keras.layers.Conv2D(filters=f,kernel_size=(1,1),strides=2,padding=how)(X_prev)\n",
    "    layer = tf.keras.layers.ZeroPadding2D((7,7))(layer)\n",
    "    layer = tf.keras.layers.BatchNormalization()(layer)\n",
    "    layer = add_layer(layer,X)\n",
    "    layer = tf.keras.layers.Activation('relu')(layer)\n",
    "    return layer\n",
    "\n",
    "def cnn():\n",
    "    \n",
    "    \n",
    "    pre = tf.keras.applications.convnext.ConvNeXtSmall(\n",
    "    model_name='convnext_small',\n",
    "    include_top=False,\n",
    "    include_preprocessing=True,\n",
    "    weights=None,\n",
    "    input_shape=(150,100,3),pooling='avg')\n",
    "    pre.load_weights('/kaggle/input/naidu-cancer-comp/convnext_small_notop.h5')\n",
    "    pre.trainable=True\n",
    "    \n",
    "    for layer in pre.layers[:-20]:\n",
    "        layer.trainable=False\n",
    "    inputs = tf.keras.Input(shape=(150,100,1))\n",
    "    X = tf.keras.layers.Concatenate()([inputs for i in range(3)])\n",
    "    X = pre(X)\n",
    "    #X = tf.keras.layers.Dropout(0.20)(X)\n",
    "    outputs = tf.keras.layers.Dense(units=1, activation='sigmoid')(X)\n",
    "    model = tf.keras.Model(inputs=inputs,outputs=outputs)\n",
    "    model.summary()\n",
    "    model.compile(loss='BinaryCrossentropy',optimizer = tf.keras.optimizers.Adam(),metrics=['accuracy',pfbeta_fast])\n",
    "    return model\n",
    "\n"
   ]
  },
  {
   "cell_type": "code",
   "execution_count": 7,
   "id": "ae81f4d5",
   "metadata": {
    "execution": {
     "iopub.execute_input": "2023-03-05T13:13:14.180035Z",
     "iopub.status.busy": "2023-03-05T13:13:14.179615Z",
     "iopub.status.idle": "2023-03-05T13:13:25.401208Z",
     "shell.execute_reply": "2023-03-05T13:13:25.400265Z"
    },
    "papermill": {
     "duration": 11.230086,
     "end_time": "2023-03-05T13:13:25.403991",
     "exception": false,
     "start_time": "2023-03-05T13:13:14.173905",
     "status": "completed"
    },
    "tags": []
   },
   "outputs": [
    {
     "name": "stdout",
     "output_type": "stream",
     "text": [
      "Model: \"model\"\n",
      "__________________________________________________________________________________________________\n",
      " Layer (type)                   Output Shape         Param #     Connected to                     \n",
      "==================================================================================================\n",
      " input_2 (InputLayer)           [(None, 150, 100, 1  0           []                               \n",
      "                                )]                                                                \n",
      "                                                                                                  \n",
      " concatenate (Concatenate)      (None, 150, 100, 3)  0           ['input_2[0][0]',                \n",
      "                                                                  'input_2[0][0]',                \n",
      "                                                                  'input_2[0][0]']                \n",
      "                                                                                                  \n",
      " convnext_small (Functional)    (None, 768)          49454688    ['concatenate[0][0]']            \n",
      "                                                                                                  \n",
      " dense (Dense)                  (None, 1)            769         ['convnext_small[0][0]']         \n",
      "                                                                                                  \n",
      "==================================================================================================\n",
      "Total params: 49,455,457\n",
      "Trainable params: 9,528,577\n",
      "Non-trainable params: 39,926,880\n",
      "__________________________________________________________________________________________________\n"
     ]
    }
   ],
   "source": [
    "tf.keras.backend.clear_session()\n",
    "model = cnn()\n",
    "model.load_weights('/kaggle/input/naidu-cancer-comp/mlo_l_10e.h5')\n",
    "#model.fit(mlo_dataset,verbose=True,epochs=7,callbacks=[tf.keras.callbacks.ModelCheckpoint('model.h5')])\n",
    " "
   ]
  },
  {
   "cell_type": "code",
   "execution_count": 8,
   "id": "e30b23ba",
   "metadata": {
    "execution": {
     "iopub.execute_input": "2023-03-05T13:13:25.416905Z",
     "iopub.status.busy": "2023-03-05T13:13:25.416476Z",
     "iopub.status.idle": "2023-03-05T13:13:32.121416Z",
     "shell.execute_reply": "2023-03-05T13:13:32.120139Z"
    },
    "papermill": {
     "duration": 6.715005,
     "end_time": "2023-03-05T13:13:32.124368",
     "exception": false,
     "start_time": "2023-03-05T13:13:25.409363",
     "status": "completed"
    },
    "tags": []
   },
   "outputs": [
    {
     "name": "stdout",
     "output_type": "stream",
     "text": [
      "4/4 [==============================] - 7s 1s/step\n"
     ]
    },
    {
     "name": "stderr",
     "output_type": "stream",
     "text": [
      "/opt/conda/lib/python3.7/site-packages/ipykernel_launcher.py:6: SettingWithCopyWarning: \n",
      "A value is trying to be set on a copy of a slice from a DataFrame.\n",
      "Try using .loc[row_indexer,col_indexer] = value instead\n",
      "\n",
      "See the caveats in the documentation: https://pandas.pydata.org/pandas-docs/stable/user_guide/indexing.html#returning-a-view-versus-a-copy\n",
      "  \n"
     ]
    }
   ],
   "source": [
    "preds = (model.predict(dataset))\n",
    "test_r = pd.DataFrame({'prediction_id':(test['prediction_id']).unique()})\n",
    "test_r['cancer']=0\n",
    "for i, val in enumerate(y.keys()):\n",
    "        ki = test_r[test_r['prediction_id']==(val.split('_')[0]+'_'+val.split('_')[1])]['prediction_id'].values[0]\n",
    "        test_r[test_r['prediction_id'] == ki]['cancer']+=preds[check[val],0]\n",
    "        \n",
    "    \n",
    "    "
   ]
  },
  {
   "cell_type": "code",
   "execution_count": 9,
   "id": "0811a07f",
   "metadata": {
    "execution": {
     "iopub.execute_input": "2023-03-05T13:13:32.138126Z",
     "iopub.status.busy": "2023-03-05T13:13:32.137649Z",
     "iopub.status.idle": "2023-03-05T13:13:32.167656Z",
     "shell.execute_reply": "2023-03-05T13:13:32.166349Z"
    },
    "papermill": {
     "duration": 0.039904,
     "end_time": "2023-03-05T13:13:32.170100",
     "exception": false,
     "start_time": "2023-03-05T13:13:32.130196",
     "status": "completed"
    },
    "tags": []
   },
   "outputs": [
    {
     "data": {
      "text/html": [
       "<div>\n",
       "<style scoped>\n",
       "    .dataframe tbody tr th:only-of-type {\n",
       "        vertical-align: middle;\n",
       "    }\n",
       "\n",
       "    .dataframe tbody tr th {\n",
       "        vertical-align: top;\n",
       "    }\n",
       "\n",
       "    .dataframe thead th {\n",
       "        text-align: right;\n",
       "    }\n",
       "</style>\n",
       "<table border=\"1\" class=\"dataframe\">\n",
       "  <thead>\n",
       "    <tr style=\"text-align: right;\">\n",
       "      <th></th>\n",
       "      <th>prediction_id</th>\n",
       "      <th>cancer</th>\n",
       "    </tr>\n",
       "  </thead>\n",
       "  <tbody>\n",
       "    <tr>\n",
       "      <th>0</th>\n",
       "      <td>10008_L</td>\n",
       "      <td>0</td>\n",
       "    </tr>\n",
       "    <tr>\n",
       "      <th>1</th>\n",
       "      <td>10008_R</td>\n",
       "      <td>0</td>\n",
       "    </tr>\n",
       "  </tbody>\n",
       "</table>\n",
       "</div>"
      ],
      "text/plain": [
       "  prediction_id  cancer\n",
       "0       10008_L       0\n",
       "1       10008_R       0"
      ]
     },
     "execution_count": 9,
     "metadata": {},
     "output_type": "execute_result"
    }
   ],
   "source": [
    "submission = pd.DataFrame({'prediction_id':test_r['prediction_id'],'cancer':test_r['cancer']})\n",
    "submission.to_csv('submission.csv',index=False)\n",
    "submission"
   ]
  },
  {
   "cell_type": "code",
   "execution_count": null,
   "id": "f49d073d",
   "metadata": {
    "papermill": {
     "duration": 0.005677,
     "end_time": "2023-03-05T13:13:32.181809",
     "exception": false,
     "start_time": "2023-03-05T13:13:32.176132",
     "status": "completed"
    },
    "tags": []
   },
   "outputs": [],
   "source": []
  }
 ],
 "metadata": {
  "kernelspec": {
   "display_name": "Python 3",
   "language": "python",
   "name": "python3"
  },
  "language_info": {
   "codemirror_mode": {
    "name": "ipython",
    "version": 3
   },
   "file_extension": ".py",
   "mimetype": "text/x-python",
   "name": "python",
   "nbconvert_exporter": "python",
   "pygments_lexer": "ipython3",
   "version": "3.7.12"
  },
  "papermill": {
   "default_parameters": {},
   "duration": 137.789563,
   "end_time": "2023-03-05T13:13:35.104047",
   "environment_variables": {},
   "exception": null,
   "input_path": "__notebook__.ipynb",
   "output_path": "__notebook__.ipynb",
   "parameters": {},
   "start_time": "2023-03-05T13:11:17.314484",
   "version": "2.4.0"
  }
 },
 "nbformat": 4,
 "nbformat_minor": 5
}

{
 "cells": [
  {
   "cell_type": "code",
   "execution_count": 1,
   "id": "315305a3",
   "metadata": {
    "execution": {
     "iopub.execute_input": "2023-03-05T12:45:50.967784Z",
     "iopub.status.busy": "2023-03-05T12:45:50.967361Z",
     "iopub.status.idle": "2023-03-05T12:46:33.381250Z",
     "shell.execute_reply": "2023-03-05T12:46:33.379654Z"
    },
    "papermill": {
     "duration": 42.424059,
     "end_time": "2023-03-05T12:46:33.384978",
     "exception": false,
     "start_time": "2023-03-05T12:45:50.960919",
     "status": "completed"
    },
    "tags": []
   },
   "outputs": [
    {
     "name": "stdout",
     "output_type": "stream",
     "text": [
      "\u001b[33mWARNING: Running pip as the 'root' user can result in broken permissions and conflicting behaviour with the system package manager. It is recommended to use a virtual environment instead: https://pip.pypa.io/warnings/venv\u001b[0m\u001b[33m\r\n",
      "\u001b[0m\u001b[33mWARNING: Running pip as the 'root' user can result in broken permissions and conflicting behaviour with the system package manager. It is recommended to use a virtual environment instead: https://pip.pypa.io/warnings/venv\u001b[0m\u001b[33m\r\n",
      "\u001b[0m\u001b[33mWARNING: Running pip as the 'root' user can result in broken permissions and conflicting behaviour with the system package manager. It is recommended to use a virtual environment instead: https://pip.pypa.io/warnings/venv\u001b[0m\u001b[33m\r\n",
      "\u001b[0mcp: cannot stat '/kaggle/input/efficientnet-keras-dataset/efficientnet_kaggle': No such file or directory\r\n"
     ]
    }
   ],
   "source": [
    "\n",
    "\n",
    "!pip install -q /kaggle/input/rsna-bcd-whl-ds/python_gdcm-3.0.20-cp37-cp37m-manylinux_2_17_x86_64.manylinux2014_x86_64.whl\n",
    "!pip install -q /kaggle/input/rsna-bcd-whl-ds/pylibjpeg-1.4.0-py3-none-any.whl\n",
    "!pip install -q /kaggle/input/rsna-bcd-whl-ds/dicomsdl-0.109.1-cp37-cp37m-manylinux_2_12_x86_64.manylinux2010_x86_64.whl\n",
    "!cp -r /kaggle/input/efficientnet-keras-dataset/efficientnet_kaggle /tmp/ && pip install -q /tmp/efficientnet_kaggle\n",
    "\n"
   ]
  },
  {
   "cell_type": "code",
   "execution_count": 2,
   "id": "7c63316d",
   "metadata": {
    "execution": {
     "iopub.execute_input": "2023-03-05T12:46:33.395892Z",
     "iopub.status.busy": "2023-03-05T12:46:33.395140Z",
     "iopub.status.idle": "2023-03-05T12:46:43.405512Z",
     "shell.execute_reply": "2023-03-05T12:46:43.404155Z"
    },
    "papermill": {
     "duration": 10.019236,
     "end_time": "2023-03-05T12:46:43.408495",
     "exception": false,
     "start_time": "2023-03-05T12:46:33.389259",
     "status": "completed"
    },
    "tags": []
   },
   "outputs": [],
   "source": [
    "import numpy as np\n",
    "import pandas as pd\n",
    "import os\n",
    "import tensorflow as tf\n",
    "import matplotlib.pyplot as plt\n",
    "import tqdm\n",
    "import dicomsdl as dicom\n"
   ]
  },
  {
   "cell_type": "code",
   "execution_count": 3,
   "id": "413cc857",
   "metadata": {
    "execution": {
     "iopub.execute_input": "2023-03-05T12:46:43.418223Z",
     "iopub.status.busy": "2023-03-05T12:46:43.417421Z",
     "iopub.status.idle": "2023-03-05T12:46:43.631109Z",
     "shell.execute_reply": "2023-03-05T12:46:43.630040Z"
    },
    "papermill": {
     "duration": 0.223484,
     "end_time": "2023-03-05T12:46:43.635601",
     "exception": false,
     "start_time": "2023-03-05T12:46:43.412117",
     "status": "completed"
    },
    "tags": []
   },
   "outputs": [
    {
     "name": "stderr",
     "output_type": "stream",
     "text": [
      "1it [00:00, 84.35it/s]\n"
     ]
    }
   ],
   "source": [
    "train = pd.read_csv('/kaggle/input/rsna-breast-cancer-detection/train.csv')\n",
    "test = pd.read_csv('/kaggle/input/rsna-breast-cancer-detection/test.csv')\n",
    "train.head()\n",
    "train = train[[col for col in train.columns if col in ['site_id',\n",
    " 'patient_id',\n",
    " 'image_id',\n",
    " 'laterality',\n",
    " 'view',\n",
    " 'age',\n",
    " 'implant',\n",
    " 'machine_id',\n",
    " 'prediction_id','cancer']]]\n",
    "train.loc[train['age'].isnull(),'age'] = train['age'].mean()\n",
    "\n",
    "#loading directory of images\n",
    "path = os.path.join('/kaggle/input/rsna-breast-cancer-detection/test_images')\n",
    "list_dir = os.listdir(path)\n",
    "k =[]\n",
    "y={}\n",
    "path_list=[]\n",
    "mlo_path_l = []\n",
    "cc_path_l = []\n",
    "mlo_path_r = []\n",
    "cc_path_r = []\n",
    "for i, sub in tqdm.tqdm(enumerate(list_dir)):\n",
    "    for j, fname in enumerate(os.listdir(os.path.join(path,sub))):\n",
    "        view = (test.loc[test['image_id']==int(((fname).split('.'))[0]),'view'].values)[0]\n",
    "        laterality = (test.loc[test['image_id']==int(((fname).split('.'))[0]),'laterality'].values)[0]\n",
    "        k.append(os.path.join(os.path.join(path,sub),fname))\n",
    "        if view =='MLO':\n",
    "            if laterality=='L':\n",
    "                mlo_path_l.append(os.path.join(os.path.join(path,sub),fname))\n",
    "                path_list.append(os.path.join(os.path.join(path,sub),fname))\n",
    "                y[sub+'_{}_'.format(laterality)+view] = (os.path.join(os.path.join(path,sub),fname))\n",
    "            else:\n",
    "                mlo_path_r.append(os.path.join(os.path.join(path,sub),fname))\n",
    "                path_list.append(os.path.join(os.path.join(path,sub),fname))\n",
    "                y[sub+'_{}_'.format(laterality)+view] = (os.path.join(os.path.join(path,sub),fname))\n",
    "        elif view =='CC':\n",
    "            if laterality=='L':\n",
    "                cc_path_l.append(os.path.join(os.path.join(path,sub),fname))\n",
    "                path_list.append(os.path.join(os.path.join(path,sub),fname))\n",
    "                y[sub+'_{}_'.format(laterality)+view] = (os.path.join(os.path.join(path,sub),fname))\n",
    "            else:\n",
    "                cc_path_r.append(os.path.join(os.path.join(path,sub),fname))\n",
    "                path_list.append(os.path.join(os.path.join(path,sub),fname))\n",
    "                y[sub+'_{}_'.format(laterality)+view] = (os.path.join(os.path.join(path,sub),fname))\n",
    "mlo_path_dict_l={}\n",
    "for i in range(len(list(mlo_path_l))):\n",
    "    mlo_path_dict_l[i] = mlo_path_l[i]\n",
    "mlo_path_dict_r={}\n",
    "for i in range(len(list(mlo_path_r))):\n",
    "    mlo_path_dict_r[i] = mlo_path_r[i]\n",
    "cc_path_dict_l={}\n",
    "for i in range(len(list(cc_path_l))):\n",
    "    cc_path_dict_l[i] = cc_path_l[i]\n",
    "cc_path_dict_r={}\n",
    "for i in range(len(list(cc_path_r))):\n",
    "    cc_path_dict_r[i] = cc_path_r[i]   \n",
    "path_dict={}\n",
    "for i in range(len(list(path_list))):\n",
    "    path_dict[i] = path_list[i] \n",
    "dict_path = {}\n",
    "for i,j in y.items():\n",
    "    dict_path[j] = i.split('_')[1]\n",
    "d_path = {}\n",
    "check={}\n",
    "for i,j in enumerate((y.keys())):\n",
    "    check[j] = i \n",
    "for i,j in enumerate(y.keys()):\n",
    "    d_path[j.split('_')[0]+'_'+j.split('_')[1]] = 0"
   ]
  },
  {
   "cell_type": "code",
   "execution_count": 4,
   "id": "d9d26415",
   "metadata": {
    "execution": {
     "iopub.execute_input": "2023-03-05T12:46:43.646127Z",
     "iopub.status.busy": "2023-03-05T12:46:43.645391Z",
     "iopub.status.idle": "2023-03-05T12:46:43.808742Z",
     "shell.execute_reply": "2023-03-05T12:46:43.806037Z"
    },
    "papermill": {
     "duration": 0.173113,
     "end_time": "2023-03-05T12:46:43.812855",
     "exception": false,
     "start_time": "2023-03-05T12:46:43.639742",
     "status": "completed"
    },
    "tags": []
   },
   "outputs": [
    {
     "name": "stderr",
     "output_type": "stream",
     "text": [
      "/opt/conda/lib/python3.7/site-packages/tensorflow/python/data/ops/structured_function.py:257: UserWarning: Even though the `tf.config.experimental_run_functions_eagerly` option is set, this option does not apply to tf.data functions. To force eager execution of tf.data functions, please use `tf.data.experimental.enable_debug_mode()`.\n",
      "  \"Even though the `tf.config.experimental_run_functions_eagerly` \"\n"
     ]
    }
   ],
   "source": [
    "tf.config.run_functions_eagerly(True)\n",
    "@tf.function\n",
    "def gen(x):\n",
    "    i = path_dict[x]\n",
    "    image = (dicom.open(i).pixelData(storedvalue=True))\n",
    "    max_val = tf.cast(image[-1,1000],dtype=tf.float32)\n",
    "    #print(max_val)\n",
    "    la = dict_path[i]\n",
    "    \n",
    "    #if  train[train['image_id']==int(i.split('/')[-1].split('.')[0])]['laterality'].values[0]=='L':\n",
    "    if la == 'L':\n",
    "        if max_val>=1000:\n",
    "            return (max_val-tf.image.resize(tf.expand_dims(image[100:-100,:2500],axis=-1),[150,100],preserve_aspect_ratio=False))/255.0\n",
    "        else:\n",
    "            return (tf.image.resize(tf.expand_dims(image[100:-100,:2500],axis=-1),[150,100],preserve_aspect_ratio=False)/255.0)\n",
    "    elif la == 'R':\n",
    "        if max_val>=1000:\n",
    "            return (max_val-tf.image.resize(tf.image.flip_left_right\n",
    "(tf.expand_dims(image[100:-100,:2500],axis=-1)),[150,100],preserve_aspect_ratio=False))/255.0\n",
    "        else:\n",
    "            return (tf.image.resize(tf.image.flip_left_right\n",
    "(tf.expand_dims(image[100:-100,:2500],axis=-1)),[150,100],preserve_aspect_ratio=False)/255.0)\n",
    "      #  if max_val>=1000:\n",
    "      #      return ((max_val-tf.image.resize_with_pad(tf.image.flip_left_right(tf.expand_dims(image,axis=-1)),500,500))/255.0)[:,140:-60,0],(y[int(i.split('/')[-1].split('.')[0])])\n",
    "      #  else:\n",
    "       #     return (tf.image.resize_with_pad(tf.image.flip_left_right(tf.expand_dims(image,axis=-1)),500,500)/255.0)[:,140:-60,0],(y[int(i.split('/')[-1].split('.')[0])])\n",
    "\n",
    "\n",
    "\n",
    "# Create a TensorFlow dataset and map your function to it\n",
    "dataset= tf.data.Dataset.from_tensor_slices(np.arange((len(list(path_list)))))\n",
    "dataset = dataset.map(lambda x: tf.numpy_function(gen, inp=[x], Tout=(tf.float32))).batch(1)                "
   ]
  },
  {
   "cell_type": "code",
   "execution_count": 5,
   "id": "c4b3ced5",
   "metadata": {
    "execution": {
     "iopub.execute_input": "2023-03-05T12:46:43.823788Z",
     "iopub.status.busy": "2023-03-05T12:46:43.823364Z",
     "iopub.status.idle": "2023-03-05T12:46:43.831092Z",
     "shell.execute_reply": "2023-03-05T12:46:43.829800Z"
    },
    "papermill": {
     "duration": 0.016245,
     "end_time": "2023-03-05T12:46:43.833413",
     "exception": false,
     "start_time": "2023-03-05T12:46:43.817168",
     "status": "completed"
    },
    "tags": []
   },
   "outputs": [],
   "source": [
    "def pfbeta_fast(labels, predictions, beta=1):\n",
    "\n",
    "    pTP = tf.math.reduce_sum(labels * predictions)\n",
    "    pFP = tf.math.reduce_sum((1-labels) * predictions)\n",
    "    num_positives = tf.math.reduce_sum((labels))  #  = pTP+pFN\n",
    "\n",
    "    pPrecision = pTP/(pTP+pFP)\n",
    "    pRecall = pTP/num_positives\n",
    "\n",
    "    beta_squared = beta**2\n",
    "\n",
    "    if (pPrecision > 0 and pRecall > 0):\n",
    "        pF1 = (1+beta_squared) * pPrecision * pRecall/(beta_squared*pPrecision + pRecall)\n",
    "        return pF1\n",
    "    else:\n",
    "        return 0.0\n"
   ]
  },
  {
   "cell_type": "code",
   "execution_count": 6,
   "id": "616971f8",
   "metadata": {
    "execution": {
     "iopub.execute_input": "2023-03-05T12:46:43.843796Z",
     "iopub.status.busy": "2023-03-05T12:46:43.842768Z",
     "iopub.status.idle": "2023-03-05T12:46:43.858325Z",
     "shell.execute_reply": "2023-03-05T12:46:43.857022Z"
    },
    "papermill": {
     "duration": 0.02366,
     "end_time": "2023-03-05T12:46:43.861116",
     "exception": false,
     "start_time": "2023-03-05T12:46:43.837456",
     "status": "completed"
    },
    "tags": []
   },
   "outputs": [],
   "source": [
    "\n",
    "\n",
    "def mylayer(X,f,size,s,how='same',a=1):\n",
    "    layer = tf.keras.layers.Conv2D(filters=f,kernel_size=size,strides=s,padding=how)(X)\n",
    "    layer = tf.keras.layers.BatchNormalization()(layer)\n",
    "    if a ==1:\n",
    "        layer = tf.keras.layers.Activation('relu')(layer)\n",
    "    else:\n",
    "        layer +=0\n",
    "    return layer\n",
    "def add_layer(X_prev,X):\n",
    "    added = tf.keras.layers.Add()([X_prev,X])\n",
    "    return added\n",
    "def conv_connect(X_prev,X,f,s,how='same'):\n",
    "    layer = tf.keras.layers.Conv2D(filters=f,kernel_size=(1,1),strides=2,padding=how)(X_prev)\n",
    "    layer = tf.keras.layers.ZeroPadding2D((7,7))(layer)\n",
    "    layer = tf.keras.layers.BatchNormalization()(layer)\n",
    "    layer = add_layer(layer,X)\n",
    "    layer = tf.keras.layers.Activation('relu')(layer)\n",
    "    return layer\n",
    "\n",
    "def cnn():\n",
    "    \n",
    "    \n",
    "    pre = tf.keras.applications.convnext.ConvNeXtSmall(\n",
    "    model_name='convnext_small',\n",
    "    include_top=False,\n",
    "    include_preprocessing=True,\n",
    "    weights=None,\n",
    "    input_shape=(150,100,3),pooling='avg')\n",
    "    pre.load_weights('/kaggle/input/naidu-cancer-comp/convnext_small_notop.h5')\n",
    "    pre.trainable=True\n",
    "    \n",
    "    for layer in pre.layers[:-20]:\n",
    "        layer.trainable=False\n",
    "    inputs = tf.keras.Input(shape=(150,100,1))\n",
    "    X = tf.keras.layers.Concatenate()([inputs for i in range(3)])\n",
    "    X = pre(X)\n",
    "    #X = tf.keras.layers.Dropout(0.20)(X)\n",
    "    outputs = tf.keras.layers.Dense(units=1, activation='sigmoid')(X)\n",
    "    model = tf.keras.Model(inputs=inputs,outputs=outputs)\n",
    "    model.summary()\n",
    "    model.compile(loss='BinaryCrossentropy',optimizer = tf.keras.optimizers.Adam(),metrics=['accuracy',pfbeta_fast])\n",
    "    return model\n",
    "\n"
   ]
  },
  {
   "cell_type": "code",
   "execution_count": 7,
   "id": "7792dd2d",
   "metadata": {
    "execution": {
     "iopub.execute_input": "2023-03-05T12:46:43.871387Z",
     "iopub.status.busy": "2023-03-05T12:46:43.870983Z",
     "iopub.status.idle": "2023-03-05T12:46:55.168458Z",
     "shell.execute_reply": "2023-03-05T12:46:55.166964Z"
    },
    "papermill": {
     "duration": 11.306682,
     "end_time": "2023-03-05T12:46:55.171958",
     "exception": false,
     "start_time": "2023-03-05T12:46:43.865276",
     "status": "completed"
    },
    "tags": []
   },
   "outputs": [
    {
     "name": "stdout",
     "output_type": "stream",
     "text": [
      "Model: \"model\"\n",
      "__________________________________________________________________________________________________\n",
      " Layer (type)                   Output Shape         Param #     Connected to                     \n",
      "==================================================================================================\n",
      " input_2 (InputLayer)           [(None, 150, 100, 1  0           []                               \n",
      "                                )]                                                                \n",
      "                                                                                                  \n",
      " concatenate (Concatenate)      (None, 150, 100, 3)  0           ['input_2[0][0]',                \n",
      "                                                                  'input_2[0][0]',                \n",
      "                                                                  'input_2[0][0]']                \n",
      "                                                                                                  \n",
      " convnext_small (Functional)    (None, 768)          49454688    ['concatenate[0][0]']            \n",
      "                                                                                                  \n",
      " dense (Dense)                  (None, 1)            769         ['convnext_small[0][0]']         \n",
      "                                                                                                  \n",
      "==================================================================================================\n",
      "Total params: 49,455,457\n",
      "Trainable params: 9,528,577\n",
      "Non-trainable params: 39,926,880\n",
      "__________________________________________________________________________________________________\n"
     ]
    }
   ],
   "source": [
    "tf.keras.backend.clear_session()\n",
    "model = cnn()\n",
    "model.load_weights('/kaggle/input/naidu-cancer-comp/mlo_l_10e.h5')\n",
    "#model.fit(mlo_dataset,verbose=True,epochs=7,callbacks=[tf.keras.callbacks.ModelCheckpoint('model.h5')])\n",
    " "
   ]
  },
  {
   "cell_type": "code",
   "execution_count": 8,
   "id": "8cf7fd4f",
   "metadata": {
    "execution": {
     "iopub.execute_input": "2023-03-05T12:46:55.185418Z",
     "iopub.status.busy": "2023-03-05T12:46:55.184675Z",
     "iopub.status.idle": "2023-03-05T12:47:05.573061Z",
     "shell.execute_reply": "2023-03-05T12:47:05.571815Z"
    },
    "papermill": {
     "duration": 10.399193,
     "end_time": "2023-03-05T12:47:05.576733",
     "exception": false,
     "start_time": "2023-03-05T12:46:55.177540",
     "status": "completed"
    },
    "tags": []
   },
   "outputs": [
    {
     "name": "stdout",
     "output_type": "stream",
     "text": [
      "4/4 [==============================] - 7s 1s/step\n"
     ]
    }
   ],
   "source": [
    "preds = (model.predict(dataset))\n",
    "\n",
    "for i, val in enumerate(y.keys()):\n",
    "        d_path[val.split('_')[0]+'_'+val.split('_')[1]]+=preds[check[val],0]\n",
    "        \n",
    "    \n",
    "    "
   ]
  },
  {
   "cell_type": "code",
   "execution_count": 9,
   "id": "d41bf8c8",
   "metadata": {
    "execution": {
     "iopub.execute_input": "2023-03-05T12:47:05.591564Z",
     "iopub.status.busy": "2023-03-05T12:47:05.590481Z",
     "iopub.status.idle": "2023-03-05T12:47:05.623169Z",
     "shell.execute_reply": "2023-03-05T12:47:05.621782Z"
    },
    "papermill": {
     "duration": 0.043244,
     "end_time": "2023-03-05T12:47:05.625987",
     "exception": false,
     "start_time": "2023-03-05T12:47:05.582743",
     "status": "completed"
    },
    "tags": []
   },
   "outputs": [
    {
     "data": {
      "text/html": [
       "<div>\n",
       "<style scoped>\n",
       "    .dataframe tbody tr th:only-of-type {\n",
       "        vertical-align: middle;\n",
       "    }\n",
       "\n",
       "    .dataframe tbody tr th {\n",
       "        vertical-align: top;\n",
       "    }\n",
       "\n",
       "    .dataframe thead th {\n",
       "        text-align: right;\n",
       "    }\n",
       "</style>\n",
       "<table border=\"1\" class=\"dataframe\">\n",
       "  <thead>\n",
       "    <tr style=\"text-align: right;\">\n",
       "      <th></th>\n",
       "      <th>prediction_id</th>\n",
       "      <th>cancer</th>\n",
       "    </tr>\n",
       "  </thead>\n",
       "  <tbody>\n",
       "    <tr>\n",
       "      <th>0</th>\n",
       "      <td>10008_L</td>\n",
       "      <td>0.000004</td>\n",
       "    </tr>\n",
       "    <tr>\n",
       "      <th>1</th>\n",
       "      <td>10008_R</td>\n",
       "      <td>0.000002</td>\n",
       "    </tr>\n",
       "  </tbody>\n",
       "</table>\n",
       "</div>"
      ],
      "text/plain": [
       "  prediction_id    cancer\n",
       "0       10008_L  0.000004\n",
       "1       10008_R  0.000002"
      ]
     },
     "execution_count": 9,
     "metadata": {},
     "output_type": "execute_result"
    }
   ],
   "source": [
    "submission = pd.DataFrame({'prediction_id':list(d_path.keys()),'cancer':list(d_path.values())})\n",
    "submission.to_csv('submission.csv',index=False)\n",
    "submission"
   ]
  },
  {
   "cell_type": "code",
   "execution_count": null,
   "id": "ab697b25",
   "metadata": {
    "papermill": {
     "duration": 0.005418,
     "end_time": "2023-03-05T12:47:05.637416",
     "exception": false,
     "start_time": "2023-03-05T12:47:05.631998",
     "status": "completed"
    },
    "tags": []
   },
   "outputs": [],
   "source": []
  }
 ],
 "metadata": {
  "kernelspec": {
   "display_name": "Python 3",
   "language": "python",
   "name": "python3"
  },
  "language_info": {
   "codemirror_mode": {
    "name": "ipython",
    "version": 3
   },
   "file_extension": ".py",
   "mimetype": "text/x-python",
   "name": "python",
   "nbconvert_exporter": "python",
   "pygments_lexer": "ipython3",
   "version": "3.7.12"
  },
  "papermill": {
   "default_parameters": {},
   "duration": 88.861861,
   "end_time": "2023-03-05T12:47:08.768842",
   "environment_variables": {},
   "exception": null,
   "input_path": "__notebook__.ipynb",
   "output_path": "__notebook__.ipynb",
   "parameters": {},
   "start_time": "2023-03-05T12:45:39.906981",
   "version": "2.4.0"
  }
 },
 "nbformat": 4,
 "nbformat_minor": 5
}
